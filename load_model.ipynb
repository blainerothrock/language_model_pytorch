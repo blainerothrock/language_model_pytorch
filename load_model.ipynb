{
 "cells": [
  {
   "cell_type": "code",
   "execution_count": 1,
   "metadata": {},
   "outputs": [],
   "source": [
    "\n",
    "from model import RNNModel"
   ]
  },
  {
   "cell_type": "code",
   "execution_count": 2,
   "metadata": {},
   "outputs": [
    {
     "name": "stdout",
     "output_type": "stream",
     "text": [
      "example len::   1\n",
      "train_examples[0] len:  4470802\n",
      "valid_examples[0] len:  4470802\n",
      "词汇量：  2903\n"
     ]
    }
   ],
   "source": [
    "import numpy as np\n",
    "import torch\n",
    "from utils import generate_data, check_data,word_ids_to_sentence\n",
    "import torchtext\n",
    "from torchtext import data\n",
    "import torch.nn as nn\n",
    "import torch.nn.functional as F\n",
    "from train_eval import train,test\n",
    "\n",
    "from torch.autograd import Variable as V\n",
    "\n",
    "from model import RNNModel\n",
    "\n",
    "class Config(object):\n",
    "    def __init__(self,data_ori):\n",
    "        self.model_name=\"lm_model\"\n",
    "        self.data_ori=data_ori+\"E:/data/word_nlp/cnews_data/\"\n",
    "        self.train_path=\"train_0.csv\"\n",
    "        self.valid_path=\"train_0.csv\"\n",
    "        self.test_path=\"test_100.csv\"\n",
    "        self.sen_max_length=150\n",
    "        #self.embedding_path = \"need_bertembedding\"\n",
    "        self.embedding_path = \"bert_embedding\"\n",
    "        self.embedding_dim=768\n",
    "        self.vocab_maxsize=4000\n",
    "        self.vocab_minfreq=10\n",
    "        self.save_path=\"lm_ckpt\"\n",
    "\n",
    "        self.batch_size = 64\n",
    "        self.device = torch.device(\"cuda:0\" if torch.cuda.is_available() else \"cpu\")\n",
    "\n",
    "        self.hidden_size=200\n",
    "        self.nlayers=1\n",
    "        self.dropout=0.5\n",
    "        self.epoch=2\n",
    "\n",
    "        self.train_len=0\n",
    "        self.test_len = 0\n",
    "        self.valid_len = 0\n",
    "        \n",
    "        self.mode=\"test\"\n",
    "        \n",
    "#data_path=\"E:/study_series/2020_3/re_write_classify/data/\"\n",
    "#data_path=\"/mnt/data3/wuchunsheng/code/nlper/NLP_task/text_classification/my_classification_cnews/2020_3_30/text_classify/data/\"\n",
    "data_path=\"\"\n",
    "config=Config(data_path)\n",
    "train_iter, valid_iter, test_iter, TEXT=generate_data(config)"
   ]
  },
  {
   "cell_type": "code",
   "execution_count": 3,
   "metadata": {},
   "outputs": [
    {
     "name": "stderr",
     "output_type": "stream",
     "text": [
      "C:\\Love\\Anaconda3\\lib\\site-packages\\torch\\nn\\modules\\rnn.py:51: UserWarning: dropout option adds dropout after all but last recurrent layer, so non-zero dropout expects num_layers greater than 1, but got dropout=0.5 and num_layers=1\n",
      "  \"num_layers={}\".format(dropout, num_layers))\n"
     ]
    }
   ],
   "source": [
    "model = RNNModel(config, TEXT).to(config.device)"
   ]
  },
  {
   "cell_type": "code",
   "execution_count": 4,
   "metadata": {},
   "outputs": [
    {
     "data": {
      "text/plain": [
       "<All keys matched successfully>"
      ]
     },
     "execution_count": 4,
     "metadata": {},
     "output_type": "execute_result"
    }
   ],
   "source": [
    "model.load_state_dict(torch.load(config.save_path))"
   ]
  },
  {
   "cell_type": "code",
   "execution_count": 5,
   "metadata": {},
   "outputs": [],
   "source": [
    "from train_eval import test"
   ]
  },
  {
   "cell_type": "code",
   "execution_count": 6,
   "metadata": {},
   "outputs": [],
   "source": [
    "#test(config, model, TEXT,test_iter)"
   ]
  },
  {
   "cell_type": "code",
   "execution_count": 7,
   "metadata": {},
   "outputs": [
    {
     "name": "stdout",
     "output_type": "stream",
     "text": [
      "\n",
      "[torchtext.data.batch.Batch of size 64]\n",
      "\t[.text]:[torch.cuda.LongTensor of size 50x64 (GPU 0)]\n",
      "\t[.target]:[torch.cuda.LongTensor of size 50x64 (GPU 0)]\n"
     ]
    }
   ],
   "source": [
    "b=next(iter(test_iter))\n",
    "print(b)"
   ]
  },
  {
   "cell_type": "code",
   "execution_count": 27,
   "metadata": {},
   "outputs": [
    {
     "data": {
      "text/plain": [
       "torch.Size([50])"
      ]
     },
     "execution_count": 27,
     "metadata": {},
     "output_type": "execute_result"
    }
   ],
   "source": [
    "b.text[:,0].shape"
   ]
  },
  {
   "cell_type": "code",
   "execution_count": 28,
   "metadata": {},
   "outputs": [
    {
     "name": "stdout",
     "output_type": "stream",
     "text": [
      "context,label<unk>id<eos>\"鲍勃库西奖归谁属？ NCAA最强控卫是坎巴还是弗神新浪体育讯如今\n",
      "ontext,label<unk>id<eos>\"鲍勃库西奖归谁属？ NCAA最强控卫是坎巴还是弗神新浪体育讯如今，\n"
     ]
    }
   ],
   "source": [
    "b.target[0]\n",
    "print(\"\".join([TEXT.vocab.itos[x] for x in b.text[:,0]]))\n",
    "print(\"\".join([TEXT.vocab.itos[x] for x in b.target[:,0]]))"
   ]
  },
  {
   "cell_type": "code",
   "execution_count": 32,
   "metadata": {},
   "outputs": [
    {
     "data": {
      "text/plain": [
       "tensor([1174,  699,  951], device='cuda:0')"
      ]
     },
     "execution_count": 32,
     "metadata": {},
     "output_type": "execute_result"
    }
   ],
   "source": [
    "b.text.shape\n",
    "b.text[0:3,0]"
   ]
  },
  {
   "cell_type": "code",
   "execution_count": 10,
   "metadata": {},
   "outputs": [
    {
     "data": {
      "text/plain": [
       "torch.Size([50, 1])"
      ]
     },
     "execution_count": 10,
     "metadata": {},
     "output_type": "execute_result"
    }
   ],
   "source": [
    "b.text[:,0].view(-1,1).shape"
   ]
  },
  {
   "cell_type": "code",
   "execution_count": 12,
   "metadata": {},
   "outputs": [],
   "source": [
    "arrs=model(b.text[:,0].view(-1,1))"
   ]
  },
  {
   "cell_type": "code",
   "execution_count": 13,
   "metadata": {},
   "outputs": [
    {
     "data": {
      "text/plain": [
       "torch.Size([50, 1, 15783])"
      ]
     },
     "execution_count": 13,
     "metadata": {},
     "output_type": "execute_result"
    }
   ],
   "source": [
    "arrs.shape"
   ]
  },
  {
   "cell_type": "code",
   "execution_count": 16,
   "metadata": {},
   "outputs": [
    {
     "name": "stdout",
     "output_type": "stream",
     "text": [
      "<class 'torch.Tensor'>\n"
     ]
    }
   ],
   "source": [
    "preds = word_ids_to_sentence(np.argmax(arrs.detach().cpu(), axis=2), TEXT.vocab)"
   ]
  },
  {
   "cell_type": "code",
   "execution_count": 33,
   "metadata": {},
   "outputs": [
    {
     "data": {
      "text/plain": [
       "'卡ms,r体o0onP o ny\",里-斯斯     他BAAA佳队卫新新比斯是一朗的浪体育讯北今的'"
      ]
     },
     "execution_count": 33,
     "metadata": {},
     "output_type": "execute_result"
    }
   ],
   "source": [
    "\"\".join(preds)"
   ]
  },
  {
   "cell_type": "code",
   "execution_count": 35,
   "metadata": {},
   "outputs": [
    {
     "name": "stdout",
     "output_type": "stream",
     "text": [
      "<class 'torch.Tensor'>\n"
     ]
    },
    {
     "data": {
      "text/plain": [
       "'om)'"
      ]
     },
     "execution_count": 35,
     "metadata": {},
     "output_type": "execute_result"
    }
   ],
   "source": [
    "arrs=model(b.text[0:3,0].view(-1,1))\n",
    "preds = word_ids_to_sentence(np.argmax(arrs.detach().cpu(), axis=2), TEXT.vocab)\n",
    "\"\".join(preds)"
   ]
  },
  {
   "cell_type": "code",
   "execution_count": 52,
   "metadata": {},
   "outputs": [
    {
     "name": "stdout",
     "output_type": "stream",
     "text": [
      "<class 'torch.Tensor'>\n"
     ]
    },
    {
     "data": {
      "text/plain": [
       "['育', '馆', '伤', '，']"
      ]
     },
     "execution_count": 52,
     "metadata": {},
     "output_type": "execute_result"
    }
   ],
   "source": [
    "sentence=\"体育的人\"\n",
    "def test_sentence(model , TEXT, sentence):\n",
    "    inputs=torch.Tensor([TEXT.vocab[one] for one in sentence]).long().to(config.device)\n",
    "    inputs=inputs.view(-1,1)\n",
    "    #print(inputs.shape)\n",
    "    arrs=model(inputs)\n",
    "    preds = word_ids_to_sentence(np.argmax(arrs.detach().cpu(), axis=2), TEXT.vocab)\n",
    "    \n",
    "    return preds\n",
    "test_sentence(model, TEXT, sentence)"
   ]
  },
  {
   "cell_type": "code",
   "execution_count": 24,
   "metadata": {},
   "outputs": [],
   "source": [
    "import codecs\n",
    "path=\"E:/data/word_nlp/cnews_data/bert_embedding\"\n",
    "\n",
    "lines = codecs.open(path, encoding=\"utf-8\")"
   ]
  },
  {
   "cell_type": "code",
   "execution_count": 25,
   "metadata": {},
   "outputs": [],
   "source": [
    "\n",
    "vocab={'<unk>': 0, '<pad>': 1, '，': 2, '的': 3, '。': 4, '是':5}\n",
    "embedding_vec = [line.replace(\"\\n\", \"\") for line in lines if line.split(\" \")[0] in vocab]"
   ]
  },
  {
   "cell_type": "code",
   "execution_count": 28,
   "metadata": {},
   "outputs": [
    {
     "data": {
      "text/plain": [
       "4"
      ]
     },
     "execution_count": 28,
     "metadata": {},
     "output_type": "execute_result"
    }
   ],
   "source": [
    "len(embedding_vec)\n",
    "#embedding_vec\n",
    "#embedding_vec"
   ]
  },
  {
   "cell_type": "code",
   "execution_count": 21,
   "metadata": {},
   "outputs": [
    {
     "name": "stdout",
     "output_type": "stream",
     "text": [
      "21131\n"
     ]
    }
   ],
   "source": [
    "\n",
    "lines = codecs.open(path, encoding=\"utf-8\")\n",
    "embedding_vec = [line for line in lines ]\n",
    "print(len(embedding_vec))\n",
    "#embedding_vec"
   ]
  },
  {
   "cell_type": "code",
   "execution_count": 23,
   "metadata": {},
   "outputs": [
    {
     "name": "stdout",
     "output_type": "stream",
     "text": [
      "。\n",
      "是\n",
      "的\n",
      "，\n"
     ]
    }
   ],
   "source": [
    "for one in embedding_vec:\n",
    "    if one.split(\" \")[0] in vocab:\n",
    "        print(one.split(\" \")[0])"
   ]
  },
  {
   "cell_type": "code",
   "execution_count": 6,
   "metadata": {},
   "outputs": [],
   "source": [
    "#lines = codecs.open(path, encoding=\"utf-8\")\n",
    "#for line in list(lines)[0:10]:\n",
    "#    print(line[0])"
   ]
  },
  {
   "cell_type": "code",
   "execution_count": 17,
   "metadata": {},
   "outputs": [
    {
     "data": {
      "text/plain": [
       "4"
      ]
     },
     "execution_count": 17,
     "metadata": {},
     "output_type": "execute_result"
    }
   ],
   "source": [
    "vocab[\"。\"]"
   ]
  },
  {
   "cell_type": "code",
   "execution_count": 19,
   "metadata": {},
   "outputs": [
    {
     "name": "stdout",
     "output_type": "stream",
     "text": [
      "yes\n"
     ]
    }
   ],
   "source": [
    "if \"。\" in vocab:\n",
    "    print(\"yes\")"
   ]
  },
  {
   "cell_type": "code",
   "execution_count": null,
   "metadata": {},
   "outputs": [],
   "source": []
  }
 ],
 "metadata": {
  "kernelspec": {
   "display_name": "Python 3",
   "language": "python",
   "name": "python3"
  },
  "language_info": {
   "codemirror_mode": {
    "name": "ipython",
    "version": 3
   },
   "file_extension": ".py",
   "mimetype": "text/x-python",
   "name": "python",
   "nbconvert_exporter": "python",
   "pygments_lexer": "ipython3",
   "version": "3.6.4"
  }
 },
 "nbformat": 4,
 "nbformat_minor": 2
}
